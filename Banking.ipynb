{
 "cells": [
  {
   "cell_type": "code",
   "execution_count": 1,
   "metadata": {
    "collapsed": false
   },
   "outputs": [],
   "source": [
    "import pandas\n",
    "table = pandas.read_csv('Downloads\\Creditability_Training50.csv')"
   ]
  },
  {
   "cell_type": "code",
   "execution_count": 3,
   "metadata": {
    "collapsed": false
   },
   "outputs": [],
   "source": [
    "table.target=table.Creditability\n",
    "table.data=table"
   ]
  },
  {
   "cell_type": "code",
   "execution_count": 4,
   "metadata": {
    "collapsed": false
   },
   "outputs": [
    {
     "name": "stdout",
     "output_type": "stream",
     "text": [
      "DecisionTreeClassifier(class_weight=None, criterion='gini', max_depth=None,\n",
      "            max_features=None, max_leaf_nodes=None, min_samples_leaf=1,\n",
      "            min_samples_split=2, min_weight_fraction_leaf=0.0,\n",
      "            random_state=None, splitter='best')\n"
     ]
    }
   ],
   "source": [
    "from sklearn.tree import DecisionTreeClassifier\n",
    "model = DecisionTreeClassifier()\n",
    "model.fit_transform(table.data,table.target)\n",
    "print(model)"
   ]
  },
  {
   "cell_type": "code",
   "execution_count": 5,
   "metadata": {
    "collapsed": false
   },
   "outputs": [],
   "source": [
    "#data picked up from test data \n",
    "import pandas\n",
    "test_table = pandas.read_csv('Downloads\\Creditability_Test50.csv')\n",
    "test_expected=test_table.Creditability\n",
    "test_predicted=model.predict(test_table)\n"
   ]
  },
  {
   "cell_type": "code",
   "execution_count": 6,
   "metadata": {
    "collapsed": false
   },
   "outputs": [
    {
     "name": "stdout",
     "output_type": "stream",
     "text": [
      "             precision    recall  f1-score   support\n",
      "\n",
      "          0       1.00      1.00      1.00       157\n",
      "          1       1.00      1.00      1.00       343\n",
      "\n",
      "avg / total       1.00      1.00      1.00       500\n",
      "\n",
      "[[157   0]\n",
      " [  0 343]]\n"
     ]
    }
   ],
   "source": [
    "# summarize the fit of the model\n",
    "from sklearn import metrics\n",
    "print(metrics.classification_report(test_expected, test_predicted))\n",
    "print(metrics.confusion_matrix(test_expected, test_predicted))"
   ]
  },
  {
   "cell_type": "code",
   "execution_count": 7,
   "metadata": {
    "collapsed": false
   },
   "outputs": [
    {
     "name": "stdout",
     "output_type": "stream",
     "text": [
      "1.0\n"
     ]
    }
   ],
   "source": [
    "m=len(table)\n",
    "j=0\n",
    "i=0\n",
    "for i in range(2):\n",
    "    j=(metrics.confusion_matrix(test_expected, test_predicted)[i,i])+j\n",
    "    i+=1\n",
    "  \n",
    "ac=j/float(m) \n",
    "print ac"
   ]
  },
  {
   "cell_type": "code",
   "execution_count": 11,
   "metadata": {
    "collapsed": false
   },
   "outputs": [],
   "source": [
    "# Create a decision tree classifier instance\n",
    "from sklearn import tree\n",
    "clf = tree.DecisionTreeClassifier(random_state=1)\n",
    "\n",
    "# Fit the decision tree classider\n",
    "clf.fit(table.data,table.target)\n",
    "\n",
    "# Create a feature vector\n",
    "#features = d['f1','f2']\n",
    "\n",
    "# Create a dot file\n",
    "with open(\"data.dot\", 'w') as f:\n",
    "    f = tree.export_graphviz(clf, out_file=f)\n"
   ]
  },
  {
   "cell_type": "code",
   "execution_count": null,
   "metadata": {
    "collapsed": true
   },
   "outputs": [],
   "source": []
  }
 ],
 "metadata": {
  "kernelspec": {
   "display_name": "Python 2",
   "language": "python",
   "name": "python2"
  },
  "language_info": {
   "codemirror_mode": {
    "name": "ipython",
    "version": 2
   },
   "file_extension": ".py",
   "mimetype": "text/x-python",
   "name": "python",
   "nbconvert_exporter": "python",
   "pygments_lexer": "ipython2",
   "version": "2.7.10"
  }
 },
 "nbformat": 4,
 "nbformat_minor": 0
}
