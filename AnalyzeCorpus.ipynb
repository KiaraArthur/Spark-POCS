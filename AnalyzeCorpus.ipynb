{
 "cells": [
  {
   "cell_type": "code",
   "execution_count": null,
   "metadata": {
    "collapsed": true
   },
   "outputs": [],
   "source": [
    "# Create N-Gram to build sentiment dictionary\n",
    "from collections import defaultdict\n",
    "\n",
    "def ngrams(words, n, padding=False):\n",
    "    \"Compute n-grams with optional padding\"\n",
    "    pad = [] if not padding else [None]*(n-1)\n",
    "    grams = pad + words + pad\n",
    "    return (tuple(grams[i:i+n]) for i in range(0, len(grams) - (n - 1)))\n",
    "\n",
    "# show frequency\n",
    "counts = defaultdict(int)\n",
    "for ng in ngrams(splitted_sentences[0], 2, False):\n",
    "    counts[ng] += 1\n",
    "    \n",
    "print '\\nfrequencies of bigrams:'\n",
    "for c, ng in sorted(((c, ng) for ng, c in counts.iteritems()), reverse=True):\n",
    "    print c, ng"
   ]
  },
  {
   "cell_type": "code",
   "execution_count": null,
   "metadata": {
    "collapsed": true
   },
   "outputs": [],
   "source": [
    "# Create a WordCloud to build sentiment dictionary\n",
    "from os import path\n",
    "import matplotlib.pyplot as plt\n",
    "from wordcloud import WordCloud\n",
    "\n",
    "d = path.dirname(__file__)\n",
    "\n",
    "# Read the whole text.\n",
    "text = open(path).read()\n",
    "wordcloud = WordCloud().generate(text)\n",
    "# Open a plot of the generated image.\n",
    "plt.imshow(wordcloud)\n",
    "plt.axis(\"off\")\n",
    "plt.show()"
   ]
  }
 ],
 "metadata": {
  "kernelspec": {
   "display_name": "Python 2",
   "language": "python",
   "name": "python2"
  },
  "language_info": {
   "codemirror_mode": {
    "name": "ipython",
    "version": 2
   },
   "file_extension": ".py",
   "mimetype": "text/x-python",
   "name": "python",
   "nbconvert_exporter": "python",
   "pygments_lexer": "ipython2",
   "version": "2.7.9"
  }
 },
 "nbformat": 4,
 "nbformat_minor": 0
}
