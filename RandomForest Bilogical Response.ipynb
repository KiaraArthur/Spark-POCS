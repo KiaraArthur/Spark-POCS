{
 "cells": [
  {
   "cell_type": "code",
   "execution_count": 60,
   "metadata": {
    "collapsed": false
   },
   "outputs": [
    {
     "name": "stdout",
     "output_type": "stream",
     "text": [
      "[ 1.  1.  0. ...,  1.  1.  0.]\n"
     ]
    }
   ],
   "source": [
    "from sklearn.ensemble import RandomForestClassifier\n",
    "from numpy import genfromtxt\n",
    "#import pandas\n",
    "\n",
    "def main():\n",
    "    dataset=genfromtxt(open('Downloads\\\\train.csv','r'),delimiter=',')[1:]\n",
    "    #dataset=pandas.read_csv('Downloads\\\\train.csv')\n",
    "    data=dataset[:,1:]\n",
    "    target=dataset[:,0]\n",
    "    \n",
    "    \n",
    "    test=genfromtxt(open('Downloads\\\\test.csv','r'),delimiter=',')[1:]\n",
    "    #test=pandas.read_csv('Downloads\\\\test.csv')\n",
    "    rf=RandomForestClassifier(n_estimators=10)\n",
    "    rf.fit(data,target)\n",
    "    prediction=rf.predict(test) \n",
    "    print prediction\n",
    "    \n",
    "    \n",
    "if __name__==\"__main__\":\n",
    "    main()"
   ]
  },
  {
   "cell_type": "code",
   "execution_count": null,
   "metadata": {
    "collapsed": true
   },
   "outputs": [],
   "source": []
  }
 ],
 "metadata": {
  "kernelspec": {
   "display_name": "Python 2",
   "language": "python",
   "name": "python2"
  },
  "language_info": {
   "codemirror_mode": {
    "name": "ipython",
    "version": 2
   },
   "file_extension": ".py",
   "mimetype": "text/x-python",
   "name": "python",
   "nbconvert_exporter": "python",
   "pygments_lexer": "ipython2",
   "version": "2.7.10"
  }
 },
 "nbformat": 4,
 "nbformat_minor": 0
}
